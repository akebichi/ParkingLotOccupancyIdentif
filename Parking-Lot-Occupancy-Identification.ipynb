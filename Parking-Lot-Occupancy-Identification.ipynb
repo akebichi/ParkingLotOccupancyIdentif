{
 "cells": [
  {
   "cell_type": "markdown",
   "metadata": {},
   "source": [
    "# Parking Lot Occupancy Identification"
   ]
  },
  {
   "cell_type": "markdown",
   "metadata": {},
   "source": [
    "This model identifies if a given parking slot is occupied or not. It is trained using convolutional neural network (CNN) on parking lot images to identify occupancy. This model can be extended as edge ML model with a parking monitoring drone that continuously monitors available and occupied parking lots."
   ]
  },
  {
   "cell_type": "code",
   "execution_count": 5,
   "metadata": {},
   "outputs": [
    {
     "name": "stdout",
     "output_type": "stream",
     "text": [
     ]
    }
   ],
   "source": [
    "#install opencv-python\n",
    "!pip install opencv-python\n",
    "!pip install boto3"
   ]
  },
  {
   "cell_type": "code",
   "execution_count": 7,
   "metadata": {},
   "outputs": [
    {
     "name": "stdout",
     "output_type": "stream",
     "text": [
      "Collecting sagemaker\n",
      "  Downloading https://files.pythonhosted.org/packages/3e/3c/0d40da49d4ce12771106300a7cc74b9162c30a63406f3d27f39d1d484fee/sagemaker-1.18.4.tar.gz (247kB)\n",
      "Requirement already satisfied: boto3>=1.9.64 in c:\\users\\akhorshi\\appdata\\local\\continuum\\anaconda3\\lib\\site-packages (from sagemaker) (1.9.114)\n",
      "Requirement already satisfied: numpy>=1.9.0 in c:\\users\\akhorshi\\appdata\\local\\continuum\\anaconda3\\lib\\site-packages (from sagemaker) (1.15.4)\n",
      "Collecting protobuf>=3.1 (from sagemaker)\n",
      "  Downloading https://files.pythonhosted.org/packages/9d/71/46f8c3945a1bb4671335c9d13caa17fe97686c0355679a1e563132e3cb2e/protobuf-3.7.0-cp37-cp37m-win_amd64.whl (988kB)\n",
      "Requirement already satisfied: scipy>=0.19.0 in c:\\users\\akhorshi\\appdata\\local\\continuum\\anaconda3\\lib\\site-packages (from sagemaker) (1.1.0)\n",
      "Requirement already satisfied: urllib3>=1.21 in c:\\users\\akhorshi\\appdata\\local\\continuum\\anaconda3\\lib\\site-packages (from sagemaker) (1.24.1)\n",
      "Collecting protobuf3-to-dict>=0.1.5 (from sagemaker)\n",
      "  Downloading https://files.pythonhosted.org/packages/6b/55/522bb43539fed463275ee803d79851faaebe86d17e7e3dbc89870d0322b9/protobuf3-to-dict-0.1.5.tar.gz\n",
      "Collecting docker-compose>=1.23.0 (from sagemaker)\n",
      "  Downloading https://files.pythonhosted.org/packages/1e/6c/bf9879305530c4b765ef4eb3be76202788ca1037aec74d2c0ec73191d467/docker_compose-1.23.2-py2.py3-none-any.whl (131kB)\n",
      "Collecting requests<2.21,>=2.20.0 (from sagemaker)\n",
      "  Downloading https://files.pythonhosted.org/packages/ff/17/5cbb026005115301a8fb2f9b0e3e8d32313142fe8b617070e7baad20554f/requests-2.20.1-py2.py3-none-any.whl (57kB)\n",
      "Requirement already satisfied: jmespath<1.0.0,>=0.7.1 in c:\\users\\akhorshi\\appdata\\local\\continuum\\anaconda3\\lib\\site-packages (from boto3>=1.9.64->sagemaker) (0.9.4)\n",
      "Requirement already satisfied: botocore<1.13.0,>=1.12.114 in c:\\users\\akhorshi\\appdata\\local\\continuum\\anaconda3\\lib\\site-packages (from boto3>=1.9.64->sagemaker) (1.12.114)\n",
      "Requirement already satisfied: s3transfer<0.3.0,>=0.2.0 in c:\\users\\akhorshi\\appdata\\local\\continuum\\anaconda3\\lib\\site-packages (from boto3>=1.9.64->sagemaker) (0.2.0)\n",
      "Requirement already satisfied: setuptools in c:\\users\\akhorshi\\appdata\\local\\continuum\\anaconda3\\lib\\site-packages (from protobuf>=3.1->sagemaker) (40.6.3)\n",
      "Requirement already satisfied: six>=1.9 in c:\\users\\akhorshi\\appdata\\local\\continuum\\anaconda3\\lib\\site-packages (from protobuf>=3.1->sagemaker) (1.12.0)\n",
      "Collecting cached-property<2,>=1.2.0 (from docker-compose>=1.23.0->sagemaker)\n",
      "  Downloading https://files.pythonhosted.org/packages/3b/86/85c1be2e8db9e13ef9a350aecd6dea292bd612fa288c2f40d035bb750ded/cached_property-1.5.1-py2.py3-none-any.whl\n",
      "Collecting dockerpty<0.5,>=0.4.1 (from docker-compose>=1.23.0->sagemaker)\n",
      "  Downloading https://files.pythonhosted.org/packages/8d/ee/e9ecce4c32204a6738e0a5d5883d3413794d7498fe8b06f44becc028d3ba/dockerpty-0.4.1.tar.gz\n",
      "Collecting docker<4.0,>=3.6.0 (from docker-compose>=1.23.0->sagemaker)\n",
      "  Downloading https://files.pythonhosted.org/packages/7e/3c/b610f22b170b0f8fe4d8f78974878e116562389f666f99e6549567eb9d87/docker-3.7.0-py2.py3-none-any.whl (133kB)\n",
      "Collecting docopt<0.7,>=0.6.1 (from docker-compose>=1.23.0->sagemaker)\n",
      "  Downloading https://files.pythonhosted.org/packages/a2/55/8f8cab2afd404cf578136ef2cc5dfb50baa1761b68c9da1fb1e4eed343c9/docopt-0.6.2.tar.gz\n",
      "Requirement already satisfied: PyYAML<4,>=3.10 in c:\\users\\akhorshi\\appdata\\local\\continuum\\anaconda3\\lib\\site-packages (from docker-compose>=1.23.0->sagemaker) (3.13)\n",
      "Collecting texttable<0.10,>=0.9.0 (from docker-compose>=1.23.0->sagemaker)\n",
      "  Downloading https://files.pythonhosted.org/packages/02/e1/2565e6b842de7945af0555167d33acfc8a615584ef7abd30d1eae00a4d80/texttable-0.9.1.tar.gz\n",
      "Requirement already satisfied: jsonschema<3,>=2.5.1 in c:\\users\\akhorshi\\appdata\\local\\continuum\\anaconda3\\lib\\site-packages (from docker-compose>=1.23.0->sagemaker) (2.6.0)\n",
      "Requirement already satisfied: colorama<0.5,>=0.4; sys_platform == \"win32\" in c:\\users\\akhorshi\\appdata\\local\\continuum\\anaconda3\\lib\\site-packages (from docker-compose>=1.23.0->sagemaker) (0.4.1)\n",
      "Collecting websocket-client<1.0,>=0.32.0 (from docker-compose>=1.23.0->sagemaker)\n",
      "  Downloading https://files.pythonhosted.org/packages/38/54/684db2ba1b7a203602808446b8686ee786f93b4a7e080cdc440cc7e06e56/websocket_client-0.55.0-py2.py3-none-any.whl (200kB)\n",
      "Requirement already satisfied: certifi>=2017.4.17 in c:\\users\\akhorshi\\appdata\\local\\continuum\\anaconda3\\lib\\site-packages (from requests<2.21,>=2.20.0->sagemaker) (2018.11.29)\n",
      "Requirement already satisfied: chardet<3.1.0,>=3.0.2 in c:\\users\\akhorshi\\appdata\\local\\continuum\\anaconda3\\lib\\site-packages (from requests<2.21,>=2.20.0->sagemaker) (3.0.4)\n",
      "Collecting idna<2.8,>=2.5 (from requests<2.21,>=2.20.0->sagemaker)\n",
      "  Downloading https://files.pythonhosted.org/packages/4b/2a/0276479a4b3caeb8a8c1af2f8e4355746a97fab05a372e4a2c6a6b876165/idna-2.7-py2.py3-none-any.whl (58kB)\n",
      "Requirement already satisfied: docutils>=0.10 in c:\\users\\akhorshi\\appdata\\local\\continuum\\anaconda3\\lib\\site-packages (from botocore<1.13.0,>=1.12.114->boto3>=1.9.64->sagemaker) (0.14)\n",
      "Requirement already satisfied: python-dateutil<3.0.0,>=2.1; python_version >= \"2.7\" in c:\\users\\akhorshi\\appdata\\local\\continuum\\anaconda3\\lib\\site-packages (from botocore<1.13.0,>=1.12.114->boto3>=1.9.64->sagemaker) (2.7.5)\n",
      "Collecting pypiwin32==223; sys_platform == \"win32\" and python_version >= \"3.6\" (from docker<4.0,>=3.6.0->docker-compose>=1.23.0->sagemaker)\n",
      "  Downloading https://files.pythonhosted.org/packages/d0/1b/2f292bbd742e369a100c91faa0483172cd91a1a422a6692055ac920946c5/pypiwin32-223-py3-none-any.whl\n",
      "Collecting docker-pycreds>=0.4.0 (from docker<4.0,>=3.6.0->docker-compose>=1.23.0->sagemaker)\n",
      "  Downloading https://files.pythonhosted.org/packages/f5/e8/f6bd1eee09314e7e6dee49cbe2c5e22314ccdb38db16c9fc72d2fa80d054/docker_pycreds-0.4.0-py2.py3-none-any.whl\n",
      "Requirement already satisfied: pywin32>=223 in c:\\users\\akhorshi\\appdata\\local\\continuum\\anaconda3\\lib\\site-packages (from pypiwin32==223; sys_platform == \"win32\" and python_version >= \"3.6\"->docker<4.0,>=3.6.0->docker-compose>=1.23.0->sagemaker) (223)\n",
      "Building wheels for collected packages: sagemaker, protobuf3-to-dict, dockerpty, docopt, texttable\n",
      "  Running setup.py bdist_wheel for sagemaker: started\n",
      "  Running setup.py bdist_wheel for sagemaker: finished with status 'done'\n",
      "  Stored in directory: C:\\Users\\akhorshi\\AppData\\Local\\pip\\Cache\\wheels\\8a\\e4\\f8\\3c4fda326f34e692b8643ec7f3e9b9f39d786e10da89d25140\n",
      "  Running setup.py bdist_wheel for protobuf3-to-dict: started\n",
      "  Running setup.py bdist_wheel for protobuf3-to-dict: finished with status 'done'\n",
      "  Stored in directory: C:\\Users\\akhorshi\\AppData\\Local\\pip\\Cache\\wheels\\37\\42\\d8\\1609d310cabebc2cf60eca038fa2b0c8503412963734a6fc31\n",
      "  Running setup.py bdist_wheel for dockerpty: started\n",
      "  Running setup.py bdist_wheel for dockerpty: finished with status 'done'\n",
      "  Stored in directory: C:\\Users\\akhorshi\\AppData\\Local\\pip\\Cache\\wheels\\e5\\1e\\86\\bd0a97a0907c6c654af654d5875d1d4383dd1f575f77cee4aa\n",
      "  Running setup.py bdist_wheel for docopt: started\n",
      "  Running setup.py bdist_wheel for docopt: finished with status 'done'\n",
      "  Stored in directory: C:\\Users\\akhorshi\\AppData\\Local\\pip\\Cache\\wheels\\9b\\04\\dd\\7daf4150b6d9b12949298737de9431a324d4b797ffd63f526e\n",
      "  Running setup.py bdist_wheel for texttable: started\n",
      "  Running setup.py bdist_wheel for texttable: finished with status 'done'\n",
      "  Stored in directory: C:\\Users\\akhorshi\\AppData\\Local\\pip\\Cache\\wheels\\99\\1e\\2b\\8452d3a48dad98632787556a0f2f90d56703b39cdf7d142dd1\n",
      "Successfully built sagemaker protobuf3-to-dict dockerpty docopt texttable\n",
      "Installing collected packages: protobuf, protobuf3-to-dict, cached-property, dockerpty, pypiwin32, docker-pycreds, websocket-client, idna, requests, docker, docopt, texttable, docker-compose, sagemaker\n",
      "  Found existing installation: idna 2.8\n",
      "    Uninstalling idna-2.8:\n",
      "      Successfully uninstalled idna-2.8\n",
      "  Found existing installation: requests 2.21.0\n",
      "    Uninstalling requests-2.21.0:\n",
      "      Successfully uninstalled requests-2.21.0\n",
      "Successfully installed cached-property-1.5.1 docker-3.7.0 docker-compose-1.23.2 docker-pycreds-0.4.0 dockerpty-0.4.1 docopt-0.6.2 idna-2.7 protobuf-3.7.0 protobuf3-to-dict-0.1.5 pypiwin32-223 requests-2.20.1 sagemaker-1.18.4 texttable-0.9.1 websocket-client-0.55.0\n"
     ]
    }
   ],
   "source": [
    "!pip install sagemaker\n"
   ]
  },
  {
   "cell_type": "code",
   "execution_count": 8,
   "metadata": {},
   "outputs": [],
   "source": [
    "#Import required libraries\n",
    "import os\n",
    "import json\n",
    "import boto3\n",
    "import sagemaker\n",
    "import cv2"
   ]
  },
  {
   "cell_type": "code",
   "execution_count": 9,
   "metadata": {},
   "outputs": [],
   "source": [
    "from matplotlib import pyplot as plt\n",
    "def show_image(temp):\n",
    "    plt.figure()\n",
    "    plt.imshow(temp)\n",
    "    plt.show()"
   ]
  },
  {
   "cell_type": "markdown",
   "metadata": {},
   "source": [
    "# Provide endpoint name"
   ]
  },
  {
   "cell_type": "code",
   "execution_count": 10,
   "metadata": {},
   "outputs": [],
   "source": [
    "ENDPOINT_NAME = 'Demo-Parking-Lot-Occupancy-Identification-Endpoint'"
   ]
  },
  {
   "cell_type": "markdown",
   "metadata": {},
   "source": [
    "# Provide Image Name"
   ]
  },
  {
   "cell_type": "markdown",
   "metadata": {},
   "source": [
    "Provide any of the following as input image to the model"
   ]
  },
  {
   "cell_type": "code",
   "execution_count": 11,
   "metadata": {},
   "outputs": [],
   "source": [
    "Test_image = 'car-parkingoccupied.jpg'\n",
    "\n",
    "# Test_image = 'slot-parkingavailable.jpg'"
   ]
  },
  {
   "cell_type": "markdown",
   "metadata": {},
   "source": [
    "# Make predictions"
   ]
  },
  {
   "cell_type": "code",
   "execution_count": 12,
   "metadata": {},
   "outputs": [
    {
     "data": {
      "image/png": "[encoded data removed]",
      "text/plain": [
       "<Figure size 432x288 with 1 Axes>"
      ]
     },
     "metadata": {
      "needs_background": "light"
     },
     "output_type": "display_data"
    }
   ],
   "source": [
    "#load occupied parking image\n",
    "temp=cv2.imread(Test_image)\n",
    "test_img=cv2.cvtColor(temp,cv2.COLOR_BGR2RGB) \n",
    "show_image(test_img)"
   ]
  },
  {
   "cell_type": "code",
   "execution_count": 13,
   "metadata": {},
   "outputs": [],
   "source": [
    "img = open(Test_image,'rb')\n",
    "payload = img.read()\n",
    "payload = bytearray(payload)"
   ]
  },
  {
   "cell_type": "code",
   "execution_count": 14,
   "metadata": {},
   "outputs": [
    {
     "ename": "NoRegionError",
     "evalue": "You must specify a region.",
     "output_type": "error",
     "traceback": [
      "\u001b[1;31m---------------------------------------------------------------------------\u001b[0m",
      "\u001b[1;31mNoRegionError\u001b[0m                             Traceback (most recent call last)",
      "\u001b[1;32m<ipython-input-14-dec2afddabbf>\u001b[0m in \u001b[0;36m<module>\u001b[1;34m\u001b[0m\n\u001b[1;32m----> 1\u001b[1;33m \u001b[0msagemaker\u001b[0m \u001b[1;33m=\u001b[0m \u001b[0mboto3\u001b[0m\u001b[1;33m.\u001b[0m\u001b[0mclient\u001b[0m\u001b[1;33m(\u001b[0m\u001b[1;34m'runtime.sagemaker'\u001b[0m\u001b[1;33m)\u001b[0m\u001b[1;33m\u001b[0m\u001b[1;33m\u001b[0m\u001b[0m\n\u001b[0m\u001b[0;32m      2\u001b[0m result = sagemaker.invoke_endpoint(\n\u001b[0;32m      3\u001b[0m         \u001b[0mEndpointName\u001b[0m\u001b[1;33m=\u001b[0m\u001b[0mENDPOINT_NAME\u001b[0m\u001b[1;33m,\u001b[0m\u001b[1;33m\u001b[0m\u001b[1;33m\u001b[0m\u001b[0m\n\u001b[0;32m      4\u001b[0m         \u001b[0mContentType\u001b[0m\u001b[1;33m=\u001b[0m\u001b[1;34m'image/jpeg'\u001b[0m\u001b[1;33m,\u001b[0m\u001b[1;33m\u001b[0m\u001b[1;33m\u001b[0m\u001b[0m\n\u001b[0;32m      5\u001b[0m         Body=payload)\n",
      "\u001b[1;32m~\\AppData\\Local\\Continuum\\anaconda3\\lib\\site-packages\\boto3\\__init__.py\u001b[0m in \u001b[0;36mclient\u001b[1;34m(*args, **kwargs)\u001b[0m\n\u001b[0;32m     89\u001b[0m     \u001b[0mSee\u001b[0m \u001b[1;33m:\u001b[0m\u001b[0mpy\u001b[0m\u001b[1;33m:\u001b[0m\u001b[0mmeth\u001b[0m\u001b[1;33m:\u001b[0m\u001b[0;31m`\u001b[0m\u001b[0mboto3\u001b[0m\u001b[1;33m.\u001b[0m\u001b[0msession\u001b[0m\u001b[1;33m.\u001b[0m\u001b[0mSession\u001b[0m\u001b[1;33m.\u001b[0m\u001b[0mclient\u001b[0m\u001b[0;31m`\u001b[0m\u001b[1;33m.\u001b[0m\u001b[1;33m\u001b[0m\u001b[1;33m\u001b[0m\u001b[0m\n\u001b[0;32m     90\u001b[0m     \"\"\"\n\u001b[1;32m---> 91\u001b[1;33m     \u001b[1;32mreturn\u001b[0m \u001b[0m_get_default_session\u001b[0m\u001b[1;33m(\u001b[0m\u001b[1;33m)\u001b[0m\u001b[1;33m.\u001b[0m\u001b[0mclient\u001b[0m\u001b[1;33m(\u001b[0m\u001b[1;33m*\u001b[0m\u001b[0margs\u001b[0m\u001b[1;33m,\u001b[0m \u001b[1;33m**\u001b[0m\u001b[0mkwargs\u001b[0m\u001b[1;33m)\u001b[0m\u001b[1;33m\u001b[0m\u001b[1;33m\u001b[0m\u001b[0m\n\u001b[0m\u001b[0;32m     92\u001b[0m \u001b[1;33m\u001b[0m\u001b[0m\n\u001b[0;32m     93\u001b[0m \u001b[1;33m\u001b[0m\u001b[0m\n",
      "\u001b[1;32m~\\AppData\\Local\\Continuum\\anaconda3\\lib\\site-packages\\boto3\\session.py\u001b[0m in \u001b[0;36mclient\u001b[1;34m(self, service_name, region_name, api_version, use_ssl, verify, endpoint_url, aws_access_key_id, aws_secret_access_key, aws_session_token, config)\u001b[0m\n\u001b[0;32m    261\u001b[0m             \u001b[0maws_access_key_id\u001b[0m\u001b[1;33m=\u001b[0m\u001b[0maws_access_key_id\u001b[0m\u001b[1;33m,\u001b[0m\u001b[1;33m\u001b[0m\u001b[1;33m\u001b[0m\u001b[0m\n\u001b[0;32m    262\u001b[0m             \u001b[0maws_secret_access_key\u001b[0m\u001b[1;33m=\u001b[0m\u001b[0maws_secret_access_key\u001b[0m\u001b[1;33m,\u001b[0m\u001b[1;33m\u001b[0m\u001b[1;33m\u001b[0m\u001b[0m\n\u001b[1;32m--> 263\u001b[1;33m             aws_session_token=aws_session_token, config=config)\n\u001b[0m\u001b[0;32m    264\u001b[0m \u001b[1;33m\u001b[0m\u001b[0m\n\u001b[0;32m    265\u001b[0m     def resource(self, service_name, region_name=None, api_version=None,\n",
      "\u001b[1;32m~\\AppData\\Local\\Continuum\\anaconda3\\lib\\site-packages\\botocore\\session.py\u001b[0m in \u001b[0;36mcreate_client\u001b[1;34m(self, service_name, region_name, api_version, use_ssl, verify, endpoint_url, aws_access_key_id, aws_secret_access_key, aws_session_token, config)\u001b[0m\n\u001b[0;32m    836\u001b[0m             \u001b[0mis_secure\u001b[0m\u001b[1;33m=\u001b[0m\u001b[0muse_ssl\u001b[0m\u001b[1;33m,\u001b[0m \u001b[0mendpoint_url\u001b[0m\u001b[1;33m=\u001b[0m\u001b[0mendpoint_url\u001b[0m\u001b[1;33m,\u001b[0m \u001b[0mverify\u001b[0m\u001b[1;33m=\u001b[0m\u001b[0mverify\u001b[0m\u001b[1;33m,\u001b[0m\u001b[1;33m\u001b[0m\u001b[1;33m\u001b[0m\u001b[0m\n\u001b[0;32m    837\u001b[0m             \u001b[0mcredentials\u001b[0m\u001b[1;33m=\u001b[0m\u001b[0mcredentials\u001b[0m\u001b[1;33m,\u001b[0m \u001b[0mscoped_config\u001b[0m\u001b[1;33m=\u001b[0m\u001b[0mself\u001b[0m\u001b[1;33m.\u001b[0m\u001b[0mget_scoped_config\u001b[0m\u001b[1;33m(\u001b[0m\u001b[1;33m)\u001b[0m\u001b[1;33m,\u001b[0m\u001b[1;33m\u001b[0m\u001b[1;33m\u001b[0m\u001b[0m\n\u001b[1;32m--> 838\u001b[1;33m             client_config=config, api_version=api_version)\n\u001b[0m\u001b[0;32m    839\u001b[0m         \u001b[0mmonitor\u001b[0m \u001b[1;33m=\u001b[0m \u001b[0mself\u001b[0m\u001b[1;33m.\u001b[0m\u001b[0m_get_internal_component\u001b[0m\u001b[1;33m(\u001b[0m\u001b[1;34m'monitor'\u001b[0m\u001b[1;33m)\u001b[0m\u001b[1;33m\u001b[0m\u001b[1;33m\u001b[0m\u001b[0m\n\u001b[0;32m    840\u001b[0m         \u001b[1;32mif\u001b[0m \u001b[0mmonitor\u001b[0m \u001b[1;32mis\u001b[0m \u001b[1;32mnot\u001b[0m \u001b[1;32mNone\u001b[0m\u001b[1;33m:\u001b[0m\u001b[1;33m\u001b[0m\u001b[1;33m\u001b[0m\u001b[0m\n",
      "\u001b[1;32m~\\AppData\\Local\\Continuum\\anaconda3\\lib\\site-packages\\botocore\\client.py\u001b[0m in \u001b[0;36mcreate_client\u001b[1;34m(self, service_name, region_name, is_secure, endpoint_url, verify, credentials, scoped_config, api_version, client_config)\u001b[0m\n\u001b[0;32m     84\u001b[0m         client_args = self._get_client_args(\n\u001b[0;32m     85\u001b[0m             \u001b[0mservice_model\u001b[0m\u001b[1;33m,\u001b[0m \u001b[0mregion_name\u001b[0m\u001b[1;33m,\u001b[0m \u001b[0mis_secure\u001b[0m\u001b[1;33m,\u001b[0m \u001b[0mendpoint_url\u001b[0m\u001b[1;33m,\u001b[0m\u001b[1;33m\u001b[0m\u001b[1;33m\u001b[0m\u001b[0m\n\u001b[1;32m---> 86\u001b[1;33m             verify, credentials, scoped_config, client_config, endpoint_bridge)\n\u001b[0m\u001b[0;32m     87\u001b[0m         \u001b[0mservice_client\u001b[0m \u001b[1;33m=\u001b[0m \u001b[0mcls\u001b[0m\u001b[1;33m(\u001b[0m\u001b[1;33m**\u001b[0m\u001b[0mclient_args\u001b[0m\u001b[1;33m)\u001b[0m\u001b[1;33m\u001b[0m\u001b[1;33m\u001b[0m\u001b[0m\n\u001b[0;32m     88\u001b[0m         \u001b[0mself\u001b[0m\u001b[1;33m.\u001b[0m\u001b[0m_register_retries\u001b[0m\u001b[1;33m(\u001b[0m\u001b[0mservice_client\u001b[0m\u001b[1;33m)\u001b[0m\u001b[1;33m\u001b[0m\u001b[1;33m\u001b[0m\u001b[0m\n",
      "\u001b[1;32m~\\AppData\\Local\\Continuum\\anaconda3\\lib\\site-packages\\botocore\\client.py\u001b[0m in \u001b[0;36m_get_client_args\u001b[1;34m(self, service_model, region_name, is_secure, endpoint_url, verify, credentials, scoped_config, client_config, endpoint_bridge)\u001b[0m\n\u001b[0;32m    326\u001b[0m         return args_creator.get_client_args(\n\u001b[0;32m    327\u001b[0m             \u001b[0mservice_model\u001b[0m\u001b[1;33m,\u001b[0m \u001b[0mregion_name\u001b[0m\u001b[1;33m,\u001b[0m \u001b[0mis_secure\u001b[0m\u001b[1;33m,\u001b[0m \u001b[0mendpoint_url\u001b[0m\u001b[1;33m,\u001b[0m\u001b[1;33m\u001b[0m\u001b[1;33m\u001b[0m\u001b[0m\n\u001b[1;32m--> 328\u001b[1;33m             verify, credentials, scoped_config, client_config, endpoint_bridge)\n\u001b[0m\u001b[0;32m    329\u001b[0m \u001b[1;33m\u001b[0m\u001b[0m\n\u001b[0;32m    330\u001b[0m     \u001b[1;32mdef\u001b[0m \u001b[0m_create_methods\u001b[0m\u001b[1;33m(\u001b[0m\u001b[0mself\u001b[0m\u001b[1;33m,\u001b[0m \u001b[0mservice_model\u001b[0m\u001b[1;33m)\u001b[0m\u001b[1;33m:\u001b[0m\u001b[1;33m\u001b[0m\u001b[1;33m\u001b[0m\u001b[0m\n",
      "\u001b[1;32m~\\AppData\\Local\\Continuum\\anaconda3\\lib\\site-packages\\botocore\\args.py\u001b[0m in \u001b[0;36mget_client_args\u001b[1;34m(self, service_model, region_name, is_secure, endpoint_url, verify, credentials, scoped_config, client_config, endpoint_bridge)\u001b[0m\n\u001b[0;32m     45\u001b[0m         final_args = self.compute_client_args(\n\u001b[0;32m     46\u001b[0m             \u001b[0mservice_model\u001b[0m\u001b[1;33m,\u001b[0m \u001b[0mclient_config\u001b[0m\u001b[1;33m,\u001b[0m \u001b[0mendpoint_bridge\u001b[0m\u001b[1;33m,\u001b[0m \u001b[0mregion_name\u001b[0m\u001b[1;33m,\u001b[0m\u001b[1;33m\u001b[0m\u001b[1;33m\u001b[0m\u001b[0m\n\u001b[1;32m---> 47\u001b[1;33m             endpoint_url, is_secure, scoped_config)\n\u001b[0m\u001b[0;32m     48\u001b[0m \u001b[1;33m\u001b[0m\u001b[0m\n\u001b[0;32m     49\u001b[0m         \u001b[0mservice_name\u001b[0m \u001b[1;33m=\u001b[0m \u001b[0mfinal_args\u001b[0m\u001b[1;33m[\u001b[0m\u001b[1;34m'service_name'\u001b[0m\u001b[1;33m]\u001b[0m\u001b[1;33m\u001b[0m\u001b[1;33m\u001b[0m\u001b[0m\n",
      "\u001b[1;32m~\\AppData\\Local\\Continuum\\anaconda3\\lib\\site-packages\\botocore\\args.py\u001b[0m in \u001b[0;36mcompute_client_args\u001b[1;34m(self, service_model, client_config, endpoint_bridge, region_name, endpoint_url, is_secure, scoped_config)\u001b[0m\n\u001b[0;32m    115\u001b[0m \u001b[1;33m\u001b[0m\u001b[0m\n\u001b[0;32m    116\u001b[0m         endpoint_config = endpoint_bridge.resolve(\n\u001b[1;32m--> 117\u001b[1;33m             service_name, region_name, endpoint_url, is_secure)\n\u001b[0m\u001b[0;32m    118\u001b[0m \u001b[1;33m\u001b[0m\u001b[0m\n\u001b[0;32m    119\u001b[0m         \u001b[1;31m# Override the user agent if specified in the client config.\u001b[0m\u001b[1;33m\u001b[0m\u001b[1;33m\u001b[0m\u001b[1;33m\u001b[0m\u001b[0m\n",
      "\u001b[1;32m~\\AppData\\Local\\Continuum\\anaconda3\\lib\\site-packages\\botocore\\client.py\u001b[0m in \u001b[0;36mresolve\u001b[1;34m(self, service_name, region_name, endpoint_url, is_secure)\u001b[0m\n\u001b[0;32m    400\u001b[0m         \u001b[0mregion_name\u001b[0m \u001b[1;33m=\u001b[0m \u001b[0mself\u001b[0m\u001b[1;33m.\u001b[0m\u001b[0m_check_default_region\u001b[0m\u001b[1;33m(\u001b[0m\u001b[0mservice_name\u001b[0m\u001b[1;33m,\u001b[0m \u001b[0mregion_name\u001b[0m\u001b[1;33m)\u001b[0m\u001b[1;33m\u001b[0m\u001b[1;33m\u001b[0m\u001b[0m\n\u001b[0;32m    401\u001b[0m         resolved = self.endpoint_resolver.construct_endpoint(\n\u001b[1;32m--> 402\u001b[1;33m             service_name, region_name)\n\u001b[0m\u001b[0;32m    403\u001b[0m         \u001b[1;32mif\u001b[0m \u001b[0mresolved\u001b[0m\u001b[1;33m:\u001b[0m\u001b[1;33m\u001b[0m\u001b[1;33m\u001b[0m\u001b[0m\n\u001b[0;32m    404\u001b[0m             return self._create_endpoint(\n",
      "\u001b[1;32m~\\AppData\\Local\\Continuum\\anaconda3\\lib\\site-packages\\botocore\\regions.py\u001b[0m in \u001b[0;36mconstruct_endpoint\u001b[1;34m(self, service_name, region_name)\u001b[0m\n\u001b[0;32m    120\u001b[0m         \u001b[1;32mfor\u001b[0m \u001b[0mpartition\u001b[0m \u001b[1;32min\u001b[0m \u001b[0mself\u001b[0m\u001b[1;33m.\u001b[0m\u001b[0m_endpoint_data\u001b[0m\u001b[1;33m[\u001b[0m\u001b[1;34m'partitions'\u001b[0m\u001b[1;33m]\u001b[0m\u001b[1;33m:\u001b[0m\u001b[1;33m\u001b[0m\u001b[1;33m\u001b[0m\u001b[0m\n\u001b[0;32m    121\u001b[0m             result = self._endpoint_for_partition(\n\u001b[1;32m--> 122\u001b[1;33m                 partition, service_name, region_name)\n\u001b[0m\u001b[0;32m    123\u001b[0m             \u001b[1;32mif\u001b[0m \u001b[0mresult\u001b[0m\u001b[1;33m:\u001b[0m\u001b[1;33m\u001b[0m\u001b[1;33m\u001b[0m\u001b[0m\n\u001b[0;32m    124\u001b[0m                 \u001b[1;32mreturn\u001b[0m \u001b[0mresult\u001b[0m\u001b[1;33m\u001b[0m\u001b[1;33m\u001b[0m\u001b[0m\n",
      "\u001b[1;32m~\\AppData\\Local\\Continuum\\anaconda3\\lib\\site-packages\\botocore\\regions.py\u001b[0m in \u001b[0;36m_endpoint_for_partition\u001b[1;34m(self, partition, service_name, region_name)\u001b[0m\n\u001b[0;32m    133\u001b[0m                 \u001b[0mregion_name\u001b[0m \u001b[1;33m=\u001b[0m \u001b[0mservice_data\u001b[0m\u001b[1;33m[\u001b[0m\u001b[1;34m'partitionEndpoint'\u001b[0m\u001b[1;33m]\u001b[0m\u001b[1;33m\u001b[0m\u001b[1;33m\u001b[0m\u001b[0m\n\u001b[0;32m    134\u001b[0m             \u001b[1;32melse\u001b[0m\u001b[1;33m:\u001b[0m\u001b[1;33m\u001b[0m\u001b[1;33m\u001b[0m\u001b[0m\n\u001b[1;32m--> 135\u001b[1;33m                 \u001b[1;32mraise\u001b[0m \u001b[0mNoRegionError\u001b[0m\u001b[1;33m(\u001b[0m\u001b[1;33m)\u001b[0m\u001b[1;33m\u001b[0m\u001b[1;33m\u001b[0m\u001b[0m\n\u001b[0m\u001b[0;32m    136\u001b[0m         \u001b[1;31m# Attempt to resolve the exact region for this partition.\u001b[0m\u001b[1;33m\u001b[0m\u001b[1;33m\u001b[0m\u001b[1;33m\u001b[0m\u001b[0m\n\u001b[0;32m    137\u001b[0m         \u001b[1;32mif\u001b[0m \u001b[0mregion_name\u001b[0m \u001b[1;32min\u001b[0m \u001b[0mservice_data\u001b[0m\u001b[1;33m[\u001b[0m\u001b[1;34m'endpoints'\u001b[0m\u001b[1;33m]\u001b[0m\u001b[1;33m:\u001b[0m\u001b[1;33m\u001b[0m\u001b[1;33m\u001b[0m\u001b[0m\n",
      "\u001b[1;31mNoRegionError\u001b[0m: You must specify a region."
     ]
    }
   ],
   "source": [
    "sagemaker = boto3.client('runtime.sagemaker')\n",
    "result = sagemaker.invoke_endpoint(\n",
    "        EndpointName=ENDPOINT_NAME,\n",
    "        ContentType='image/jpeg',\n",
    "        Body=payload)\n",
    "print(result)"
   ]
  },
  {
   "cell_type": "markdown",
   "metadata": {},
   "source": [
    "# Output "
   ]
  },
  {
   "cell_type": "code",
   "execution_count": 9,
   "metadata": {},
   "outputs": [
    {
     "data": {
      "text/plain": [
       "'{\"Results\": \"image classified with following details =probability=0.000000, class=Empty and probability=1.000000, class=Occupied\"}'"
      ]
     },
     "execution_count": 9,
     "metadata": {},
     "output_type": "execute_result"
    }
   ],
   "source": [
    "result['Body'].read().decode()"
   ]
  },
  {
   "cell_type": "markdown",
   "metadata": {},
   "source": [
    "© 2018 Persistent Systems"
   ]
  }
 ],
 "metadata": {
  "kernelspec": {
   "display_name": "Python 3",
   "language": "python",
   "name": "python3"
  },
  "language_info": {
   "codemirror_mode": {
    "name": "ipython",
    "version": 3
   },
   "file_extension": ".py",
   "mimetype": "text/x-python",
   "name": "python",
   "nbconvert_exporter": "python",
   "pygments_lexer": "ipython3",
   "version": "3.7.1"
  }
 },
 "nbformat": 4,
 "nbformat_minor": 2
}
